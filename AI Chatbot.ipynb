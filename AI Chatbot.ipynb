{
 "cells": [
  {
   "cell_type": "code",
   "execution_count": 10,
   "id": "20e3fbc8",
   "metadata": {},
   "outputs": [
    {
     "name": "stdout",
     "output_type": "stream",
     "text": [
      "/"
     ]
    },
    {
     "name": "stderr",
     "output_type": "stream",
     "text": [
      "\n",
      "[notice] A new release of pip is available: 23.3.2 -> 24.0\n",
      "[notice] To update, run: python.exe -m pip install --upgrade pip\n"
     ]
    },
    {
     "name": "stdout",
     "output_type": "stream",
     "text": [
      "Requirement already satisfied: pyfiglet in c:\\users\\manihas\\anaconda3\\lib\\site-packages (1.0.2)\n",
      "    _    ___    ____ _           _     ____        _   \n",
      "   / \\  |_ _|  / ___| |__   __ _| |_  | __ )  ___ | |_ \n",
      "  / _ \\  | |  | |   | '_ \\ / _` | __| |  _ \\ / _ \\| __|\n",
      " / ___ \\ | |  | |___| | | | (_| | |_  | |_) | (_) | |_ \n",
      "/_/   \\_\\___|  \\____|_| |_|\\__,_|\\__| |____/ \\___/ \\__|\n",
      "                                                       \n",
      "\n",
      "Enter the question to ask:\n",
      "\n",
      "\\>> hi\n",
      ">>  Hello! How can I assist you today?\n",
      "\n",
      ">> q\n",
      ">>Thank you for using AI Chatbot...\n"
     ]
    }
   ],
   "source": [
    "!pip install pyfiglet\n",
    "import requests\n",
    "import pyfiglet\n",
    "import itertools\n",
    "import threading\n",
    "import time\n",
    "import sys\n",
    "\n",
    "url = 'https://simple-chatgpt-api.p.rapidapi.com/ask'\n",
    "\n",
    "headers = {\n",
    "    \"content-type\": \"application/json\",\n",
    "    \"X-RapidAPI-Key\": \"4f8eb11db2mshaa303d997998aafp1c30b0jsn2f8e4ad5f8e1\",\n",
    "    \"X-RapidAPI-Host\": \"simple-chatgpt-api.p.rapidapi.com\"\n",
    "}\n",
    "\n",
    "    \n",
    "def animate():\n",
    "    for c in itertools.cycle(['|','/','-','\\\\']):\n",
    "        if done:\n",
    "            break\n",
    "            \n",
    "        sys.stdout.write('\\r'+c)\n",
    "        sys.stdout.flush()\n",
    "        time.sleep(0.1)\n",
    "        \n",
    "    sys.stdout.write('\\r')\n",
    "    sys.stdout.flush()\n",
    "    \n",
    "def ask(question):\n",
    "    payload = {\"question\":question}\n",
    "    response = requests.post(url, json=payload, headers=headers)\n",
    "    return response.json().get(\"answer\")\n",
    "\n",
    "if __name__ == \"__main__\":\n",
    "    print(pyfiglet.figlet_format(\"AI Chat Bot\"))\n",
    "    print(\"Enter the question to ask:\")\n",
    "    print()\n",
    "    while True:\n",
    "        question = str(input(\">> \"))\n",
    "        if(question == 'q'):\n",
    "            print(\">>Thank you for using AI Chatbot...\")\n",
    "            break\n",
    "        \n",
    "        done = False\n",
    "        t = threading.Thread(target=animate)\n",
    "        t.start()\n",
    "        answer = ask(question)\n",
    "        time.sleep(5)\n",
    "        done = True\n",
    "        t.join()\n",
    "        print(\">> \", answer)\n",
    "        print()\n",
    "        "
   ]
  }
 ],
 "metadata": {
  "kernelspec": {
   "display_name": "Python 3 (ipykernel)",
   "language": "python",
   "name": "python3"
  },
  "language_info": {
   "codemirror_mode": {
    "name": "ipython",
    "version": 3
   },
   "file_extension": ".py",
   "mimetype": "text/x-python",
   "name": "python",
   "nbconvert_exporter": "python",
   "pygments_lexer": "ipython3",
   "version": "3.11.5"
  }
 },
 "nbformat": 4,
 "nbformat_minor": 5
}
